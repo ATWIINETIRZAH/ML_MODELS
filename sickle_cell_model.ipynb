{
 "cells": [
  {
   "cell_type": "code",
   "execution_count": 1,
   "metadata": {},
   "outputs": [
    {
     "name": "stdout",
     "output_type": "stream",
     "text": [
      "   ID   WBC  LYMp  MIDp  NEUTp  LYMn  MIDn  NEUTn   RBC  HGB  ...   MCV   MCH  \\\n",
      "0   1  10.0  43.2   6.7   50.1   4.3   0.7    5.0  2.77  7.3  ...  87.7  26.3   \n",
      "1   2  10.0  42.4   5.3   52.3   4.2   0.5    5.3  2.84  7.3  ...  88.2  25.7   \n",
      "2   3   7.2  30.7   8.6   60.7   2.2   0.6    4.4  3.97  9.0  ...  77.0  22.6   \n",
      "3   4   6.0  30.2   6.3   63.5   1.8   0.4    3.8  4.22  3.8  ...  77.9  23.2   \n",
      "4   5   4.2  39.1   7.2   53.7   1.6   0.3    2.3  3.93  0.4  ...  80.6  23.9   \n",
      "\n",
      "   MCHC  RDWSD  RDWCV    PLT   MPV   PDW   PCT  PLCR  \n",
      "0  30.1   35.3   11.4  189.0   9.2  12.5  0.17  22.3  \n",
      "1  20.2   35.3   11.4  180.0   8.9  12.5  0.16  19.5  \n",
      "2  29.5   37.2   13.7  148.0  10.1  14.3  0.14  30.5  \n",
      "3  29.8   46.5   17.0  143.0   8.6  11.3  0.12  16.4  \n",
      "4  29.7   42.7   15.1  236.0  19.5  12.8  0.22  24.8  \n",
      "\n",
      "[5 rows x 21 columns]\n",
      "Dataset shape: (1254, 21)\n"
     ]
    }
   ],
   "source": [
    "import pandas as pd  \n",
    "\n",
    "\n",
    "file_path = \"cleaned_cbc_data.xlsx\"  \n",
    "cbc_data = pd.read_excel(file_path)\n",
    "\n",
    "print(cbc_data.head())\n",
    "\n",
    "\n",
    "print(f\"Dataset shape: {cbc_data.shape}\")\n"
   ]
  },
  {
   "cell_type": "code",
   "execution_count": 2,
   "metadata": {},
   "outputs": [
    {
     "name": "stdout",
     "output_type": "stream",
     "text": [
      "         ID       WBC      LYMp      MIDp     NEUTp      LYMn      MIDn  \\\n",
      "0 -1.730670  0.634328  0.915006 -0.415121 -0.068160  1.556160  0.198546   \n",
      "1 -1.727908  0.634328  0.849478 -0.701999 -0.053526  1.486911 -0.165549   \n",
      "2 -1.725145 -0.146367 -0.108882 -0.025787  0.002346  0.101929  0.016498   \n",
      "3 -1.722383 -0.480950 -0.149837 -0.497086  0.020970 -0.175067 -0.347596   \n",
      "4 -1.719620 -0.982826  0.579171 -0.312665 -0.044214 -0.313565 -0.529644   \n",
      "\n",
      "      NEUTn       RBC       HGB  ...       MCV       MCH      MCHC     RDWSD  \\\n",
      "0  0.247102 -0.645056 -1.346792  ...  0.112444 -0.045684 -0.422469 -0.189697   \n",
      "1  0.342393 -0.620267 -1.346792  ...  0.130791 -0.051025 -3.011258 -0.189697   \n",
      "2  0.056519 -0.220104 -0.946428  ... -0.280176 -0.078620 -0.579365 -0.029520   \n",
      "3 -0.134064 -0.131572 -2.171069  ... -0.247151 -0.073279 -0.500917  0.754504   \n",
      "4 -0.610521 -0.234269 -2.971796  ... -0.148079 -0.067048 -0.527067  0.434150   \n",
      "\n",
      "      RDWCV       PLT       MPV       PDW       PCT      PLCR  \n",
      "0 -0.585592 -0.304774 -0.069220 -0.352770 -0.034515 -0.885594  \n",
      "1 -0.585592 -0.409402 -0.080251 -0.352770 -0.048913 -1.506749  \n",
      "2 -0.032196 -0.781415 -0.036127  0.301629 -0.077710  0.933503  \n",
      "3  0.761807 -0.839542 -0.091282 -0.789035 -0.106507 -2.194456  \n",
      "4  0.304654  0.241619  0.309508 -0.243703  0.037477 -0.330991  \n",
      "\n",
      "[5 rows x 21 columns]\n"
     ]
    }
   ],
   "source": [
    "from sklearn.preprocessing import StandardScaler  \n",
    "import pandas as pd  \n",
    "\n",
    "\n",
    "file_path = \"cleaned_cbc_data.xlsx\"  \n",
    "cbc_data = pd.read_excel(file_path)\n",
    "\n",
    "\n",
    "scaler = StandardScaler()\n",
    "\n",
    "\n",
    "cbc_data_scaled = scaler.fit_transform(cbc_data)\n",
    "\n",
    "\n",
    "cbc_data_scaled = pd.DataFrame(cbc_data_scaled, columns=cbc_data.columns)\n",
    "\n",
    "print(cbc_data_scaled.head()) \n",
    "\n"
   ]
  },
  {
   "cell_type": "code",
   "execution_count": null,
   "metadata": {},
   "outputs": [
    {
     "name": "stdout",
     "output_type": "stream",
     "text": [
      "Shape of X: (1249, 5, 21)\n",
      "Shape of y: (1249, 21)\n"
     ]
    }
   ],
   "source": [
    "import numpy as np\n",
    "\n",
    "seq_length = 5\n",
    "\n",
    "def create_sequences(data, seq_length):\n",
    "    sequences, labels = [], []\n",
    "    for i in range(len(data) - seq_length):\n",
    "        sequences.append(data[i:i+seq_length]) \n",
    "        labels.append(data[i+seq_length])  \n",
    "    return np.array(sequences), np.array(labels)\n",
    "\n",
    "\n",
    "X, y = create_sequences(cbc_data_scaled.values, seq_length)\n",
    "\n",
    "print(f\"Shape of X: {X.shape}\")  \n",
    "print(f\"Shape of y: {y.shape}\")  \n"
   ]
  },
  {
   "cell_type": "code",
   "execution_count": 7,
   "metadata": {},
   "outputs": [
    {
     "name": "stdout",
     "output_type": "stream",
     "text": [
      "^C\n",
      "Note: you may need to restart the kernel to use updated packages.\n"
     ]
    },
    {
     "name": "stderr",
     "output_type": "stream",
     "text": [
      "  WARNING: The script wheel.exe is installed in 'c:\\Users\\user\\AppData\\Local\\Programs\\Python\\Python310\\Scripts' which is not on PATH.\n",
      "  Consider adding this directory to PATH or, if you prefer to suppress this warning, use --no-warn-script-location.\n",
      "  WARNING: The scripts f2py.exe and numpy-config.exe are installed in 'c:\\Users\\user\\AppData\\Local\\Programs\\Python\\Python310\\Scripts' which is not on PATH.\n",
      "  Consider adding this directory to PATH or, if you prefer to suppress this warning, use --no-warn-script-location.\n",
      "  WARNING: The script markdown_py.exe is installed in 'c:\\Users\\user\\AppData\\Local\\Programs\\Python\\Python310\\Scripts' which is not on PATH.\n",
      "  Consider adding this directory to PATH or, if you prefer to suppress this warning, use --no-warn-script-location.\n",
      "  WARNING: The script markdown-it.exe is installed in 'c:\\Users\\user\\AppData\\Local\\Programs\\Python\\Python310\\Scripts' which is not on PATH.\n",
      "  Consider adding this directory to PATH or, if you prefer to suppress this warning, use --no-warn-script-location.\n",
      "  WARNING: The script tensorboard.exe is installed in 'c:\\Users\\user\\AppData\\Local\\Programs\\Python\\Python310\\Scripts' which is not on PATH.\n",
      "  Consider adding this directory to PATH or, if you prefer to suppress this warning, use --no-warn-script-location.\n",
      "  WARNING: The scripts import_pb_to_tensorboard.exe, saved_model_cli.exe, tensorboard.exe, tf_upgrade_v2.exe, tflite_convert.exe, toco.exe and toco_from_protos.exe are installed in 'c:\\Users\\user\\AppData\\Local\\Programs\\Python\\Python310\\Scripts' which is not on PATH.\n",
      "  Consider adding this directory to PATH or, if you prefer to suppress this warning, use --no-warn-script-location.\n",
      "WARNING: You are using pip version 22.0.4; however, version 25.0.1 is available.\n",
      "You should consider upgrading via the 'c:\\Users\\user\\AppData\\Local\\Programs\\Python\\Python310\\python.exe -m pip install --upgrade pip' command.\n"
     ]
    },
    {
     "name": "stdout",
     "output_type": "stream",
     "text": [
      "Collecting tensorflow\n",
      "  Using cached tensorflow-2.18.0-cp310-cp310-win_amd64.whl (7.5 kB)\n",
      "Collecting tensorflow-intel==2.18.0\n",
      "  Downloading tensorflow_intel-2.18.0-cp310-cp310-win_amd64.whl (390.0 MB)\n",
      "     ------------------------------------ 390.0/390.0 MB 963.3 kB/s eta 0:00:00\n",
      "Collecting protobuf!=4.21.0,!=4.21.1,!=4.21.2,!=4.21.3,!=4.21.4,!=4.21.5,<6.0.0dev,>=3.20.3\n",
      "  Downloading protobuf-5.29.3-cp310-abi3-win_amd64.whl (434 kB)\n",
      "     -------------------------------------- 434.5/434.5 KB 3.0 MB/s eta 0:00:00\n",
      "Collecting google-pasta>=0.1.1\n",
      "  Using cached google_pasta-0.2.0-py3-none-any.whl (57 kB)\n",
      "Collecting tensorboard<2.19,>=2.18\n",
      "  Using cached tensorboard-2.18.0-py3-none-any.whl (5.5 MB)\n",
      "Collecting numpy<2.1.0,>=1.26.0\n",
      "  Downloading numpy-2.0.2-cp310-cp310-win_amd64.whl (15.9 MB)\n",
      "     ---------------------------------------- 15.9/15.9 MB 2.9 MB/s eta 0:00:00\n",
      "Collecting tensorflow-io-gcs-filesystem>=0.23.1\n",
      "  Downloading tensorflow_io_gcs_filesystem-0.31.0-cp310-cp310-win_amd64.whl (1.5 MB)\n",
      "     ---------------------------------------- 1.5/1.5 MB 2.8 MB/s eta 0:00:00\n",
      "Collecting keras>=3.5.0\n",
      "  Using cached keras-3.8.0-py3-none-any.whl (1.3 MB)\n",
      "Requirement already satisfied: packaging in c:\\users\\user\\appdata\\roaming\\python\\python310\\site-packages (from tensorflow-intel==2.18.0->tensorflow) (24.1)\n",
      "Collecting flatbuffers>=24.3.25\n",
      "  Using cached flatbuffers-25.1.24-py2.py3-none-any.whl (30 kB)\n",
      "Collecting absl-py>=1.0.0\n",
      "  Using cached absl_py-2.1.0-py3-none-any.whl (133 kB)\n",
      "Requirement already satisfied: six>=1.12.0 in c:\\users\\user\\appdata\\roaming\\python\\python310\\site-packages (from tensorflow-intel==2.18.0->tensorflow) (1.16.0)\n",
      "Collecting astunparse>=1.6.0\n",
      "  Using cached astunparse-1.6.3-py2.py3-none-any.whl (12 kB)\n",
      "Collecting opt-einsum>=2.3.2\n",
      "  Using cached opt_einsum-3.4.0-py3-none-any.whl (71 kB)\n",
      "Collecting h5py>=3.11.0\n",
      "  Downloading h5py-3.12.1-cp310-cp310-win_amd64.whl (3.0 MB)\n",
      "     ---------------------------------------- 3.0/3.0 MB 3.5 MB/s eta 0:00:00\n",
      "Collecting ml-dtypes<0.5.0,>=0.4.0\n",
      "  Downloading ml_dtypes-0.4.1-cp310-cp310-win_amd64.whl (126 kB)\n",
      "     -------------------------------------- 126.6/126.6 KB 1.9 MB/s eta 0:00:00\n",
      "Requirement already satisfied: setuptools in c:\\users\\user\\appdata\\local\\programs\\python\\python310\\lib\\site-packages (from tensorflow-intel==2.18.0->tensorflow) (58.1.0)\n",
      "Collecting wrapt>=1.11.0\n",
      "  Downloading wrapt-1.17.2-cp310-cp310-win_amd64.whl (38 kB)\n",
      "Collecting requests<3,>=2.21.0\n",
      "  Using cached requests-2.32.3-py3-none-any.whl (64 kB)\n",
      "Requirement already satisfied: typing-extensions>=3.6.6 in c:\\users\\user\\appdata\\roaming\\python\\python310\\site-packages (from tensorflow-intel==2.18.0->tensorflow) (4.12.2)\n",
      "Collecting gast!=0.5.0,!=0.5.1,!=0.5.2,>=0.2.1\n",
      "  Using cached gast-0.6.0-py3-none-any.whl (21 kB)\n",
      "Collecting libclang>=13.0.0\n",
      "  Using cached libclang-18.1.1-py2.py3-none-win_amd64.whl (26.4 MB)\n",
      "Collecting grpcio<2.0,>=1.24.3\n",
      "  Downloading grpcio-1.70.0-cp310-cp310-win_amd64.whl (4.3 MB)\n",
      "     ---------------------------------------- 4.3/4.3 MB 1.1 MB/s eta 0:00:00\n",
      "Collecting termcolor>=1.1.0\n",
      "  Using cached termcolor-2.5.0-py3-none-any.whl (7.8 kB)\n",
      "Collecting wheel<1.0,>=0.23.0\n",
      "  Using cached wheel-0.45.1-py3-none-any.whl (72 kB)\n",
      "Collecting namex\n",
      "  Using cached namex-0.0.8-py3-none-any.whl (5.8 kB)\n",
      "Collecting optree\n",
      "  Downloading optree-0.14.0-cp310-cp310-win_amd64.whl (290 kB)\n",
      "     -------------------------------------- 290.9/290.9 KB 1.1 MB/s eta 0:00:00\n",
      "Collecting rich\n",
      "  Using cached rich-13.9.4-py3-none-any.whl (242 kB)\n",
      "Collecting urllib3<3,>=1.21.1\n",
      "  Using cached urllib3-2.3.0-py3-none-any.whl (128 kB)\n",
      "Collecting idna<4,>=2.5\n",
      "  Using cached idna-3.10-py3-none-any.whl (70 kB)\n",
      "Requirement already satisfied: charset-normalizer<4,>=2 in c:\\users\\user\\appdata\\local\\programs\\python\\python310\\lib\\site-packages (from requests<3,>=2.21.0->tensorflow-intel==2.18.0->tensorflow) (3.4.1)\n",
      "Collecting certifi>=2017.4.17\n",
      "  Using cached certifi-2025.1.31-py3-none-any.whl (166 kB)\n",
      "Collecting markdown>=2.6.8\n",
      "  Using cached Markdown-3.7-py3-none-any.whl (106 kB)\n",
      "Collecting tensorboard-data-server<0.8.0,>=0.7.0\n",
      "  Using cached tensorboard_data_server-0.7.2-py3-none-any.whl (2.4 kB)\n",
      "Collecting werkzeug>=1.0.1\n",
      "  Using cached werkzeug-3.1.3-py3-none-any.whl (224 kB)\n",
      "Collecting MarkupSafe>=2.1.1\n",
      "  Downloading MarkupSafe-3.0.2-cp310-cp310-win_amd64.whl (15 kB)\n",
      "Requirement already satisfied: pygments<3.0.0,>=2.13.0 in c:\\users\\user\\appdata\\roaming\\python\\python310\\site-packages (from rich->keras>=3.5.0->tensorflow-intel==2.18.0->tensorflow) (2.18.0)\n",
      "Collecting markdown-it-py>=2.2.0\n",
      "  Using cached markdown_it_py-3.0.0-py3-none-any.whl (87 kB)\n",
      "Collecting mdurl~=0.1\n",
      "  Using cached mdurl-0.1.2-py3-none-any.whl (10.0 kB)\n",
      "Installing collected packages: namex, libclang, flatbuffers, wrapt, wheel, urllib3, termcolor, tensorflow-io-gcs-filesystem, tensorboard-data-server, protobuf, optree, opt-einsum, numpy, mdurl, MarkupSafe, markdown, idna, grpcio, google-pasta, gast, certifi, absl-py, werkzeug, requests, ml-dtypes, markdown-it-py, h5py, astunparse, tensorboard, rich, keras, tensorflow-intel, tensorflow\n",
      "  Attempting uninstall: numpy\n",
      "    Found existing installation: numpy 2.1.1\n",
      "    Uninstalling numpy-2.1.1:\n",
      "      Successfully uninstalled numpy-2.1.1\n",
      "Successfully installed MarkupSafe-3.0.2 absl-py-2.1.0 astunparse-1.6.3 certifi-2025.1.31 flatbuffers-25.1.24 gast-0.6.0 google-pasta-0.2.0 grpcio-1.70.0 h5py-3.12.1 idna-3.10 keras-3.8.0 libclang-18.1.1 markdown-3.7 markdown-it-py-3.0.0 mdurl-0.1.2 ml-dtypes-0.4.1 namex-0.0.8 numpy-2.0.2 opt-einsum-3.4.0 optree-0.14.0 protobuf-5.29.3 requests-2.32.3 rich-13.9.4 tensorboard-2.18.0 tensorboard-data-server-0.7.2 tensorflow-2.18.0 tensorflow-intel-2.18.0 tensorflow-io-gcs-filesystem-0.31.0 termcolor-2.5.0 urllib3-2.3.0 werkzeug-3.1.3 wheel-0.45.1 wrapt-1.17.2\n"
     ]
    }
   ],
   "source": [
    "pip install tensorflow\n"
   ]
  },
  {
   "cell_type": "code",
   "execution_count": null,
   "metadata": {},
   "outputs": [
    {
     "name": "stderr",
     "output_type": "stream",
     "text": [
      "c:\\Users\\user\\AppData\\Local\\Programs\\Python\\Python310\\lib\\site-packages\\keras\\src\\layers\\rnn\\rnn.py:200: UserWarning: Do not pass an `input_shape`/`input_dim` argument to a layer. When using Sequential models, prefer using an `Input(shape)` object as the first layer in the model instead.\n",
      "  super().__init__(**kwargs)\n"
     ]
    },
    {
     "name": "stdout",
     "output_type": "stream",
     "text": [
      "Epoch 1/20\n",
      "\u001b[1m125/125\u001b[0m \u001b[32m━━━━━━━━━━━━━━━━━━━━\u001b[0m\u001b[37m\u001b[0m \u001b[1m7s\u001b[0m 19ms/step - loss: 1.4393 - val_loss: 0.1404\n",
      "Epoch 2/20\n",
      "\u001b[1m125/125\u001b[0m \u001b[32m━━━━━━━━━━━━━━━━━━━━\u001b[0m\u001b[37m\u001b[0m \u001b[1m2s\u001b[0m 15ms/step - loss: 0.9939 - val_loss: 0.0848\n",
      "Epoch 3/20\n",
      "\u001b[1m125/125\u001b[0m \u001b[32m━━━━━━━━━━━━━━━━━━━━\u001b[0m\u001b[37m\u001b[0m \u001b[1m2s\u001b[0m 12ms/step - loss: 1.2368 - val_loss: 0.1021\n",
      "Epoch 4/20\n",
      "\u001b[1m125/125\u001b[0m \u001b[32m━━━━━━━━━━━━━━━━━━━━\u001b[0m\u001b[37m\u001b[0m \u001b[1m3s\u001b[0m 11ms/step - loss: 1.1260 - val_loss: 0.0812\n",
      "Epoch 5/20\n",
      "\u001b[1m125/125\u001b[0m \u001b[32m━━━━━━━━━━━━━━━━━━━━\u001b[0m\u001b[37m\u001b[0m \u001b[1m1s\u001b[0m 10ms/step - loss: 0.9753 - val_loss: 0.0767\n",
      "Epoch 6/20\n",
      "\u001b[1m125/125\u001b[0m \u001b[32m━━━━━━━━━━━━━━━━━━━━\u001b[0m\u001b[37m\u001b[0m \u001b[1m2s\u001b[0m 12ms/step - loss: 1.0394 - val_loss: 0.0700\n",
      "Epoch 7/20\n",
      "\u001b[1m125/125\u001b[0m \u001b[32m━━━━━━━━━━━━━━━━━━━━\u001b[0m\u001b[37m\u001b[0m \u001b[1m1s\u001b[0m 9ms/step - loss: 0.9731 - val_loss: 0.0764\n",
      "Epoch 8/20\n",
      "\u001b[1m125/125\u001b[0m \u001b[32m━━━━━━━━━━━━━━━━━━━━\u001b[0m\u001b[37m\u001b[0m \u001b[1m1s\u001b[0m 11ms/step - loss: 1.0091 - val_loss: 0.1096\n",
      "Epoch 9/20\n",
      "\u001b[1m125/125\u001b[0m \u001b[32m━━━━━━━━━━━━━━━━━━━━\u001b[0m\u001b[37m\u001b[0m \u001b[1m1s\u001b[0m 9ms/step - loss: 0.7429 - val_loss: 0.0817\n",
      "Epoch 10/20\n",
      "\u001b[1m125/125\u001b[0m \u001b[32m━━━━━━━━━━━━━━━━━━━━\u001b[0m\u001b[37m\u001b[0m \u001b[1m1s\u001b[0m 8ms/step - loss: 0.8099 - val_loss: 0.0846\n",
      "Epoch 11/20\n",
      "\u001b[1m125/125\u001b[0m \u001b[32m━━━━━━━━━━━━━━━━━━━━\u001b[0m\u001b[37m\u001b[0m \u001b[1m1s\u001b[0m 10ms/step - loss: 0.8696 - val_loss: 0.0940\n",
      "Epoch 12/20\n",
      "\u001b[1m125/125\u001b[0m \u001b[32m━━━━━━━━━━━━━━━━━━━━\u001b[0m\u001b[37m\u001b[0m \u001b[1m1s\u001b[0m 10ms/step - loss: 1.4879 - val_loss: 0.1045\n",
      "Epoch 13/20\n",
      "\u001b[1m125/125\u001b[0m \u001b[32m━━━━━━━━━━━━━━━━━━━━\u001b[0m\u001b[37m\u001b[0m \u001b[1m1s\u001b[0m 11ms/step - loss: 0.7591 - val_loss: 0.0893\n",
      "Epoch 14/20\n",
      "\u001b[1m125/125\u001b[0m \u001b[32m━━━━━━━━━━━━━━━━━━━━\u001b[0m\u001b[37m\u001b[0m \u001b[1m2s\u001b[0m 10ms/step - loss: 0.9692 - val_loss: 0.0840\n",
      "Epoch 15/20\n",
      "\u001b[1m125/125\u001b[0m \u001b[32m━━━━━━━━━━━━━━━━━━━━\u001b[0m\u001b[37m\u001b[0m \u001b[1m1s\u001b[0m 8ms/step - loss: 0.8494 - val_loss: 0.0884\n",
      "Epoch 16/20\n",
      "\u001b[1m125/125\u001b[0m \u001b[32m━━━━━━━━━━━━━━━━━━━━\u001b[0m\u001b[37m\u001b[0m \u001b[1m1s\u001b[0m 10ms/step - loss: 0.8599 - val_loss: 0.0878\n",
      "Epoch 17/20\n",
      "\u001b[1m125/125\u001b[0m \u001b[32m━━━━━━━━━━━━━━━━━━━━\u001b[0m\u001b[37m\u001b[0m \u001b[1m1s\u001b[0m 9ms/step - loss: 1.0149 - val_loss: 0.1132\n",
      "Epoch 18/20\n",
      "\u001b[1m125/125\u001b[0m \u001b[32m━━━━━━━━━━━━━━━━━━━━\u001b[0m\u001b[37m\u001b[0m \u001b[1m1s\u001b[0m 9ms/step - loss: 1.0893 - val_loss: 0.1093\n",
      "Epoch 19/20\n",
      "\u001b[1m125/125\u001b[0m \u001b[32m━━━━━━━━━━━━━━━━━━━━\u001b[0m\u001b[37m\u001b[0m \u001b[1m1s\u001b[0m 9ms/step - loss: 0.8519 - val_loss: 0.0810\n",
      "Epoch 20/20\n",
      "\u001b[1m125/125\u001b[0m \u001b[32m━━━━━━━━━━━━━━━━━━━━\u001b[0m\u001b[37m\u001b[0m \u001b[1m2s\u001b[0m 12ms/step - loss: 0.8875 - val_loss: 0.1178\n",
      "Model training completed!\n"
     ]
    }
   ],
   "source": [
    "import tensorflow as tf\n",
    "from tensorflow.keras.models import Sequential\n",
    "from tensorflow.keras.layers import LSTM, Dense\n",
    "\n",
    "\n",
    "model = Sequential([\n",
    "    LSTM(50, activation='relu', return_sequences=True, input_shape=(X.shape[1], X.shape[2])),\n",
    "    LSTM(50, activation='relu'),\n",
    "    Dense(X.shape[2]) \n",
    "])\n",
    "\n",
    "\n",
    "model.compile(optimizer='adam', loss='mse')\n",
    "\n",
    "history = model.fit(X, y, epochs=20, batch_size=8, validation_split=0.2)\n",
    "\n",
    "print(\"Model training completed!\")\n"
   ]
  },
  {
   "cell_type": "code",
   "execution_count": null,
   "metadata": {},
   "outputs": [
    {
     "data": {
      "image/png": "[encoded data removed]",
      "text/plain": [
       "<Figure size 640x480 with 1 Axes>"
      ]
     },
     "metadata": {},
     "output_type": "display_data"
    }
   ],
   "source": [
    "import matplotlib.pyplot as plt\n",
    "\n",
    "\n",
    "plt.plot(history.history['loss'], label='Training Loss')\n",
    "plt.plot(history.history['val_loss'], label='Validation Loss')\n",
    "plt.xlabel('Epochs')\n",
    "plt.ylabel('Loss')\n",
    "plt.legend()\n",
    "plt.title('Model Loss Over Epochs')\n",
    "plt.show()\n"
   ]
  },
  {
   "cell_type": "code",
   "execution_count": 6,
   "metadata": {},
   "outputs": [
    {
     "name": "stdout",
     "output_type": "stream",
     "text": [
      "\u001b[1m1/1\u001b[0m \u001b[32m━━━━━━━━━━━━━━━━━━━━\u001b[0m\u001b[37m\u001b[0m \u001b[1m0s\u001b[0m 478ms/step\n",
      "Predicted Future CBC Values:\n",
      "[[1.09193347e+03 5.45001221e+00 2.80172558e+01 7.55445051e+00\n",
      "  4.81529808e+01 1.61902606e+00 4.52964127e-01 3.53236413e+00\n",
      "  4.71911669e+00 1.99169502e+01 2.60848160e+01 8.86938858e+01\n",
      "  6.31262445e+00 3.34189186e+01 3.70538254e+01 1.17115078e+01\n",
      "  2.91032043e+02 7.79803133e+00 1.35881777e+01 1.86845258e-01\n",
      "  2.66867504e+01]\n",
      " [1.11032983e+03 5.70454121e+00 2.91312180e+01 7.40230799e+00\n",
      "  4.82870102e+01 1.67125976e+00 4.36149448e-01 3.37738943e+00\n",
      "  4.76979208e+00 2.00147743e+01 3.08260498e+01 8.91294403e+01\n",
      "  8.46380711e+00 3.30814819e+01 3.71305313e+01 1.16225195e+01\n",
      "  2.87456421e+02 7.58857679e+00 1.35977068e+01 1.73313648e-01\n",
      "  2.66942997e+01]\n",
      " [1.10926221e+03 6.01767635e+00 3.05719299e+01 7.34692097e+00\n",
      "  4.67276649e+01 1.76415551e+00 4.32024747e-01 3.29603505e+00\n",
      "  4.77355099e+00 1.93972034e+01 3.57146988e+01 8.93203735e+01\n",
      "  9.30073643e+00 3.28237343e+01 3.71211586e+01 1.18759394e+01\n",
      "  2.84223022e+02 8.51841164e+00 1.35689449e+01 1.58983082e-01\n",
      "  2.65572548e+01]\n",
      " [1.11069946e+03 6.01801777e+00 3.06225052e+01 7.33722162e+00\n",
      "  4.62497749e+01 1.76991320e+00 4.31289881e-01 3.28949523e+00\n",
      "  4.78205729e+00 1.94164314e+01 3.59802094e+01 8.92280579e+01\n",
      "  9.57668400e+00 3.28603134e+01 3.71317787e+01 1.18700991e+01\n",
      "  2.84399384e+02 8.46749115e+00 1.35715761e+01 1.57581046e-01\n",
      "  2.65517273e+01]\n",
      " [1.11235046e+03 6.02418661e+00 3.06455288e+01 7.33373404e+00\n",
      "  4.56766739e+01 1.77266073e+00 4.32131231e-01 3.27544093e+00\n",
      "  4.78817749e+00 1.94422569e+01 3.57182808e+01 8.91803207e+01\n",
      "  9.33953762e+00 3.28943405e+01 3.71463470e+01 1.18658066e+01\n",
      "  2.85212555e+02 8.39997673e+00 1.35611868e+01 1.57219797e-01\n",
      "  2.65501213e+01]\n",
      " [1.11311157e+03 6.01041889e+00 3.05799294e+01 7.33549500e+00\n",
      "  4.58896217e+01 1.76444662e+00 4.33292598e-01 3.27154994e+00\n",
      "  4.78937531e+00 1.94719696e+01 3.54192238e+01 8.92776794e+01\n",
      "  8.79862690e+00 3.28681259e+01 3.71494789e+01 1.18544340e+01\n",
      "  2.85518707e+02 8.40167999e+00 1.35581465e+01 1.60183564e-01\n",
      "  2.65564671e+01]\n",
      " [1.11325415e+03 5.99999332e+00 3.05030079e+01 7.33644724e+00\n",
      "  4.63010712e+01 1.75656569e+00 4.33030784e-01 3.27772641e+00\n",
      "  4.78304100e+00 1.94851780e+01 3.51209068e+01 8.93556366e+01\n",
      "  8.51415348e+00 3.28505516e+01 3.71322441e+01 1.18494568e+01\n",
      "  2.85570465e+02 8.41676712e+00 1.35591593e+01 1.61638305e-01\n",
      "  2.65611477e+01]\n",
      " [1.11322791e+03 5.99617434e+00 3.04885159e+01 7.33359194e+00\n",
      "  4.65070267e+01 1.75511837e+00 4.32078034e-01 3.28227925e+00\n",
      "  4.77976036e+00 1.94882221e+01 3.50944748e+01 8.93822708e+01\n",
      "  8.58505535e+00 3.28399887e+01 3.71201668e+01 1.18479433e+01\n",
      "  2.85332977e+02 8.45147705e+00 1.35627985e+01 1.61386386e-01\n",
      "  2.65659962e+01]\n",
      " [1.11407410e+03 6.00139570e+00 3.05349369e+01 7.32494688e+00\n",
      "  4.61782684e+01 1.76081467e+00 4.31531340e-01 3.28004551e+00\n",
      "  4.78422213e+00 1.94925747e+01 3.52446632e+01 8.93071594e+01\n",
      "  8.86893368e+00 3.28703537e+01 3.71216393e+01 1.18503981e+01\n",
      "  2.85379333e+02 8.45038986e+00 1.35652180e+01 1.59836426e-01\n",
      "  2.65627651e+01]\n",
      " [1.11473193e+03 5.97919226e+00 3.04954548e+01 7.31841898e+00\n",
      "  4.64705391e+01 1.75606716e+00 4.31033343e-01 3.28103423e+00\n",
      "  4.78887224e+00 1.95188046e+01 3.55039062e+01 8.93631210e+01\n",
      "  8.73172283e+00 3.28438835e+01 3.71240845e+01 1.18347740e+01\n",
      "  2.85167084e+02 8.46146965e+00 1.35742283e+01 1.62238732e-01\n",
      "  2.65626831e+01]]\n"
     ]
    }
   ],
   "source": [
    "# Use the last known sequences for prediction\n",
    "X_input = X[-10:]  # Take the last 10 samples\n",
    "predictions = model.predict(X_input)\n",
    "\n",
    "# Convert predictions back to original scale\n",
    "predictions = scaler.inverse_transform(predictions)\n",
    "\n",
    "print(\"Predicted Future CBC Values:\")\n",
    "print(predictions)\n"
   ]
  },
  {
   "cell_type": "code",
   "execution_count": 7,
   "metadata": {},
   "outputs": [
    {
     "ename": "ValueError",
     "evalue": "non-broadcastable output operand with shape (210,1) doesn't match the broadcast shape (210,21)",
     "output_type": "error",
     "traceback": [
      "\u001b[1;31m---------------------------------------------------------------------------\u001b[0m",
      "\u001b[1;31mValueError\u001b[0m                                Traceback (most recent call last)",
      "Cell \u001b[1;32mIn[7], line 7\u001b[0m\n\u001b[0;32m      4\u001b[0m actual_values \u001b[38;5;241m=\u001b[39m y[\u001b[38;5;241m-\u001b[39m\u001b[38;5;241m10\u001b[39m:]  \u001b[38;5;66;03m# Assuming y contains the actual values\u001b[39;00m\n\u001b[0;32m      6\u001b[0m \u001b[38;5;66;03m# Convert actual values back to original scale (if needed)\u001b[39;00m\n\u001b[1;32m----> 7\u001b[0m actual_values \u001b[38;5;241m=\u001b[39m \u001b[43mscaler\u001b[49m\u001b[38;5;241;43m.\u001b[39;49m\u001b[43minverse_transform\u001b[49m\u001b[43m(\u001b[49m\u001b[43mactual_values\u001b[49m\u001b[38;5;241;43m.\u001b[39;49m\u001b[43mreshape\u001b[49m\u001b[43m(\u001b[49m\u001b[38;5;241;43m-\u001b[39;49m\u001b[38;5;241;43m1\u001b[39;49m\u001b[43m,\u001b[49m\u001b[43m \u001b[49m\u001b[38;5;241;43m1\u001b[39;49m\u001b[43m)\u001b[49m\u001b[43m)\u001b[49m\n\u001b[0;32m      9\u001b[0m \u001b[38;5;66;03m# Create a DataFrame for comparison\u001b[39;00m\n\u001b[0;32m     10\u001b[0m comparison_df \u001b[38;5;241m=\u001b[39m pd\u001b[38;5;241m.\u001b[39mDataFrame({\n\u001b[0;32m     11\u001b[0m     \u001b[38;5;124m\"\u001b[39m\u001b[38;5;124mActual Values\u001b[39m\u001b[38;5;124m\"\u001b[39m: actual_values\u001b[38;5;241m.\u001b[39mflatten(),\n\u001b[0;32m     12\u001b[0m     \u001b[38;5;124m\"\u001b[39m\u001b[38;5;124mPredicted Values\u001b[39m\u001b[38;5;124m\"\u001b[39m: predictions\u001b[38;5;241m.\u001b[39mflatten()\n\u001b[0;32m     13\u001b[0m })\n",
      "File \u001b[1;32mc:\\Users\\user\\AppData\\Local\\Programs\\Python\\Python310\\lib\\site-packages\\sklearn\\preprocessing\\_data.py:1107\u001b[0m, in \u001b[0;36mStandardScaler.inverse_transform\u001b[1;34m(self, X, copy)\u001b[0m\n\u001b[0;32m   1105\u001b[0m \u001b[38;5;28;01melse\u001b[39;00m:\n\u001b[0;32m   1106\u001b[0m     \u001b[38;5;28;01mif\u001b[39;00m \u001b[38;5;28mself\u001b[39m\u001b[38;5;241m.\u001b[39mwith_std:\n\u001b[1;32m-> 1107\u001b[0m         X \u001b[38;5;241m*\u001b[39m\u001b[38;5;241m=\u001b[39m \u001b[38;5;28mself\u001b[39m\u001b[38;5;241m.\u001b[39mscale_\n\u001b[0;32m   1108\u001b[0m     \u001b[38;5;28;01mif\u001b[39;00m \u001b[38;5;28mself\u001b[39m\u001b[38;5;241m.\u001b[39mwith_mean:\n\u001b[0;32m   1109\u001b[0m         X \u001b[38;5;241m+\u001b[39m\u001b[38;5;241m=\u001b[39m \u001b[38;5;28mself\u001b[39m\u001b[38;5;241m.\u001b[39mmean_\n",
      "\u001b[1;31mValueError\u001b[0m: non-broadcastable output operand with shape (210,1) doesn't match the broadcast shape (210,21)"
     ]
    }
   ],
   "source": [
    "import pandas as pd\n",
    "\n",
    "# Get the actual values for the corresponding predictions\n",
    "actual_values = y[-10:]  # Assuming y contains the actual values\n",
    "\n",
    "# Convert actual values back to original scale (if needed)\n",
    "actual_values = scaler.inverse_transform(actual_values.reshape(-1, 1))\n",
    "\n",
    "# Create a DataFrame for comparison\n",
    "comparison_df = pd.DataFrame({\n",
    "    \"Actual Values\": actual_values.flatten(),\n",
    "    \"Predicted Values\": predictions.flatten()\n",
    "})\n",
    "\n",
    "print(comparison_df)\n"
   ]
  },
  {
   "cell_type": "code",
   "execution_count": 8,
   "metadata": {},
   "outputs": [
    {
     "name": "stdout",
     "output_type": "stream",
     "text": [
      "Mean Squared Error (MSE): 63201.73084441801\n",
      "Root Mean Squared Error (RMSE): 251.3995442406728\n"
     ]
    }
   ],
   "source": [
    "from sklearn.metrics import mean_squared_error\n",
    "\n",
    "mse = mean_squared_error(actual_values, predictions)\n",
    "rmse = np.sqrt(mse)\n",
    "\n",
    "print(f\"Mean Squared Error (MSE): {mse}\")\n",
    "print(f\"Root Mean Squared Error (RMSE): {rmse}\")\n"
   ]
  },
  {
   "cell_type": "code",
   "execution_count": 9,
   "metadata": {},
   "outputs": [
    {
     "name": "stdout",
     "output_type": "stream",
     "text": [
      "R² Score: -3.461244649544244e+63\n"
     ]
    }
   ],
   "source": [
    "from sklearn.metrics import r2_score\n",
    "\n",
    "r2 = r2_score(actual_values, predictions)\n",
    "print(f\"R² Score: {r2}\")\n"
   ]
  },
  {
   "cell_type": "code",
   "execution_count": 10,
   "metadata": {},
   "outputs": [
    {
     "ename": "NameError",
     "evalue": "name 'X_train' is not defined",
     "output_type": "error",
     "traceback": [
      "\u001b[1;31m---------------------------------------------------------------------------\u001b[0m",
      "\u001b[1;31mNameError\u001b[0m                                 Traceback (most recent call last)",
      "Cell \u001b[1;32mIn[10], line 3\u001b[0m\n\u001b[0;32m      1\u001b[0m \u001b[38;5;28;01mfrom\u001b[39;00m \u001b[38;5;21;01msklearn\u001b[39;00m\u001b[38;5;21;01m.\u001b[39;00m\u001b[38;5;21;01mmodel_selection\u001b[39;00m \u001b[38;5;28;01mimport\u001b[39;00m cross_val_score\n\u001b[1;32m----> 3\u001b[0m scores \u001b[38;5;241m=\u001b[39m cross_val_score(model, \u001b[43mX_train\u001b[49m, y_train, cv\u001b[38;5;241m=\u001b[39m\u001b[38;5;241m5\u001b[39m, scoring\u001b[38;5;241m=\u001b[39m\u001b[38;5;124m\"\u001b[39m\u001b[38;5;124mr2\u001b[39m\u001b[38;5;124m\"\u001b[39m)\n\u001b[0;32m      4\u001b[0m \u001b[38;5;28mprint\u001b[39m(\u001b[38;5;124m\"\u001b[39m\u001b[38;5;124mCross-Validation R² Scores:\u001b[39m\u001b[38;5;124m\"\u001b[39m, scores)\n\u001b[0;32m      5\u001b[0m \u001b[38;5;28mprint\u001b[39m(\u001b[38;5;124m\"\u001b[39m\u001b[38;5;124mMean R²:\u001b[39m\u001b[38;5;124m\"\u001b[39m, scores\u001b[38;5;241m.\u001b[39mmean())\n",
      "\u001b[1;31mNameError\u001b[0m: name 'X_train' is not defined"
     ]
    }
   ],
   "source": [
    "from sklearn.model_selection import cross_val_score\n",
    "\n",
    "scores = cross_val_score(model, X_train, y_train, cv=5, scoring=\"r2\")\n",
    "print(\"Cross-Validation R² Scores:\", scores)\n",
    "print(\"Mean R²:\", scores.mean())\n"
   ]
  },
  {
   "cell_type": "code",
   "execution_count": 1,
   "metadata": {},
   "outputs": [
    {
     "name": "stdout",
     "output_type": "stream",
     "text": [
      "2.18.0\n"
     ]
    }
   ],
   "source": [
    "import tensorflow as tf\n",
    "print(tf.__version__)\n"
   ]
  }
 ],
 "metadata": {
  "kernelspec": {
   "display_name": "Python 3",
   "language": "python",
   "name": "python3"
  },
  "language_info": {
   "codemirror_mode": {
    "name": "ipython",
    "version": 3
   },
   "file_extension": ".py",
   "mimetype": "text/x-python",
   "name": "python",
   "nbconvert_exporter": "python",
   "pygments_lexer": "ipython3",
   "version": "3.10.4"
  }
 },
 "nbformat": 4,
 "nbformat_minor": 2
}
